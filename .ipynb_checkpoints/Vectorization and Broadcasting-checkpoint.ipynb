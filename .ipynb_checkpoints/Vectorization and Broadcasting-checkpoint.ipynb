{
 "cells": [
  {
   "cell_type": "code",
   "execution_count": 1,
   "metadata": {
    "ExecuteTime": {
     "end_time": "2018-09-22T08:37:33.936606Z",
     "start_time": "2018-09-22T08:37:27.127042Z"
    }
   },
   "outputs": [],
   "source": [
    "import torch\n",
    "from torch.nn.functional import cosine_similarity\n",
    "import numpy as np"
   ]
  },
  {
   "cell_type": "code",
   "execution_count": 2,
   "metadata": {
    "ExecuteTime": {
     "end_time": "2018-09-22T08:37:33.952524Z",
     "start_time": "2018-09-22T08:37:33.938529Z"
    }
   },
   "outputs": [
    {
     "data": {
      "text/plain": [
       "'0.4.1'"
      ]
     },
     "execution_count": 2,
     "metadata": {},
     "output_type": "execute_result"
    }
   ],
   "source": [
    "torch.__version__"
   ]
  },
  {
   "cell_type": "code",
   "execution_count": 3,
   "metadata": {
    "ExecuteTime": {
     "end_time": "2018-09-22T08:37:34.011354Z",
     "start_time": "2018-09-22T08:37:33.955485Z"
    }
   },
   "outputs": [],
   "source": [
    "def embeddings_to_cosine_similarity(e):\n",
    "    \"\"\"\n",
    "    Converting a tensor of n embeddings to cosine similarities of (n,n) \n",
    " dimensionality\n",
    "    \"\"\"\n",
    "    similarities = [[cosine_similarity(a,b,dim=0) for a in e] for b in e]\n",
    "    return similarities"
   ]
  },
  {
   "cell_type": "code",
   "execution_count": 4,
   "metadata": {
    "ExecuteTime": {
     "end_time": "2018-09-22T08:37:34.030304Z",
     "start_time": "2018-09-22T08:37:34.014329Z"
    }
   },
   "outputs": [],
   "source": [
    "def vectorized_embedd_to_cosine_similarity(e):\n",
    "    dot = e @ e.t() //(1)\n",
    "    norm = torch.norm(e, 2, 1) //(2)\n",
    "    x = torch.div(dot, norm)\n",
    "    x = torch.div(x, torch.unsqueeze(norm,0))\n",
    "    return x"
   ]
  },
  {
   "cell_type": "code",
   "execution_count": 5,
   "metadata": {
    "ExecuteTime": {
     "end_time": "2018-09-22T08:37:44.726406Z",
     "start_time": "2018-09-22T08:37:44.666500Z"
    }
   },
   "outputs": [],
   "source": [
    "t = torch.randn((200, 100))"
   ]
  },
  {
   "cell_type": "code",
   "execution_count": 11,
   "metadata": {
    "ExecuteTime": {
     "end_time": "2018-09-22T08:39:52.205539Z",
     "start_time": "2018-09-22T08:39:50.714864Z"
    }
   },
   "outputs": [
    {
     "name": "stdout",
     "output_type": "stream",
     "text": [
      "Wall time: 1.48 s\n"
     ]
    }
   ],
   "source": [
    "%%time\n",
    "x = embeddings_to_cosine_similarity(t)"
   ]
  },
  {
   "cell_type": "code",
   "execution_count": 12,
   "metadata": {
    "ExecuteTime": {
     "end_time": "2018-09-22T08:40:11.078687Z",
     "start_time": "2018-09-22T08:40:10.725523Z"
    }
   },
   "outputs": [
    {
     "name": "stdout",
     "output_type": "stream",
     "text": [
      "Wall time: 348 ms\n"
     ]
    }
   ],
   "source": [
    "%%time\n",
    "y = vectorized_embedd_to_cosine_similarity(t)"
   ]
  }
 ],
 "metadata": {
  "kernelspec": {
   "display_name": "Python 3",
   "language": "python",
   "name": "python3"
  },
  "language_info": {
   "codemirror_mode": {
    "name": "ipython",
    "version": 3
   },
   "file_extension": ".py",
   "mimetype": "text/x-python",
   "name": "python",
   "nbconvert_exporter": "python",
   "pygments_lexer": "ipython3",
   "version": "3.6.3"
  },
  "varInspector": {
   "cols": {
    "lenName": 16,
    "lenType": 16,
    "lenVar": 40
   },
   "kernels_config": {
    "python": {
     "delete_cmd_postfix": "",
     "delete_cmd_prefix": "del ",
     "library": "var_list.py",
     "varRefreshCmd": "print(var_dic_list())"
    },
    "r": {
     "delete_cmd_postfix": ") ",
     "delete_cmd_prefix": "rm(",
     "library": "var_list.r",
     "varRefreshCmd": "cat(var_dic_list()) "
    }
   },
   "types_to_exclude": [
    "module",
    "function",
    "builtin_function_or_method",
    "instance",
    "_Feature"
   ],
   "window_display": false
  }
 },
 "nbformat": 4,
 "nbformat_minor": 2
}
